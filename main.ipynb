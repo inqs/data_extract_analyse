{
 "cells": [
  {
   "cell_type": "code",
   "execution_count": null,
   "id": "51cdc9d4",
   "metadata": {},
   "outputs": [],
   "source": [
    "from selenium import webdriver\n",
    "from bs4 import BeautifulSoup\n",
    "import time\n",
    "import math\n",
    "\n",
    "opts = webdriver.ChromeOptions()\n",
    "opts.add_experimental_option('prefs', {\n",
    "    'download.default_directory': r\"C:\\Users\\USER\\Downloads\"\n",
    "})\n",
    "driver = webdriver.Chrome(r\"C:\\Users\\USER\\Downloads\\chromedriver.exe\", options=opts)"
   ]
  },
  {
   "cell_type": "code",
   "execution_count": null,
   "id": "5bb00574",
   "metadata": {},
   "outputs": [],
   "source": [
    "# url = \"https://movie.daum.net/moviedb/grade?movieId=83642\"\n",
    "# url = \"https://movie.daum.net/moviedb/grade?movieId=93252\"\n",
    "url = \"https://movie.daum.net/moviedb/grade?movieId=3212\"\n",
    "\n",
    "driver.get(url)"
   ]
  },
  {
   "cell_type": "code",
   "execution_count": null,
   "id": "1bee64cd",
   "metadata": {},
   "outputs": [],
   "source": [
    "# 클릭 수 = (총 평점 수 - 10) / 30(클릭 당 새로 호출되는 평점 수)\n",
    "html = driver.page_source\n",
    "soup = BeautifulSoup(html, 'html.parser')\n",
    "\n",
    "comment_num_txt = soup.find('span', {'class': 'txt_netizen'})\n",
    "comment_num = int(comment_num_txt.text[1:-2])\n",
    "\n",
    "click_num = (comment_num - 10) / 30\n",
    "click_num"
   ]
  },
  {
   "cell_type": "code",
   "execution_count": null,
   "id": "62586614",
   "metadata": {},
   "outputs": [],
   "source": [
    "for i in range(math.ceil(click_num)):\n",
    "    more_button = '//*[@class=\"link_fold #more\"]'\n",
    "    driver.find_element('xpath', more_button).click()\n",
    "    time.sleep(2)"
   ]
  },
  {
   "cell_type": "code",
   "execution_count": null,
   "id": "a89bb6c3",
   "metadata": {},
   "outputs": [],
   "source": [
    "# 댓글 가져오기\n",
    "html = driver.page_source\n",
    "soup = BeautifulSoup(html, 'html.parser')\n",
    "\n",
    "tmp_list = []\n",
    "review = soup.find_all('p', {'class': 'desc_txt font_size_'})\n",
    "\n",
    "for p in review:\n",
    "    tmp_list.append(p.text.strip())\n",
    "    \n",
    "tmp_list"
   ]
  },
  {
   "cell_type": "code",
   "execution_count": null,
   "id": "82f362e0",
   "metadata": {},
   "outputs": [],
   "source": [
    "len(tmp_list)"
   ]
  },
  {
   "cell_type": "code",
   "execution_count": null,
   "id": "b576e9cc",
   "metadata": {},
   "outputs": [],
   "source": [
    "# 별점 가져오기(댓글이 있다면)\n",
    "comments = soup.find(\"ul\", {\"class\": \"list_comment\"}).find_all(\"li\")\n",
    "star_list = []\n",
    "\n",
    "for abc in comments:\n",
    "    if abc.find('p', {'class': 'desc_txt font_size_'}):\n",
    "        ans = abc.find_all(\"div\")[1]\n",
    "        star_list.append(ans.text.strip())\n",
    "        \n",
    "star_list"
   ]
  },
  {
   "cell_type": "code",
   "execution_count": null,
   "id": "38646b93",
   "metadata": {},
   "outputs": [],
   "source": [
    "len(star_list)"
   ]
  },
  {
   "cell_type": "code",
   "execution_count": null,
   "id": "ff0ddd92",
   "metadata": {},
   "outputs": [],
   "source": [
    "# 긍정/부정 댓글 인덱스 저장\n",
    "pos_index = []\n",
    "neg_index = []\n",
    "\n",
    "for i in range(len(star_list)):\n",
    "    if int(star_list[i]) < 9:\n",
    "        neg_index.append(i)\n",
    "    else:\n",
    "        pos_index.append(i)"
   ]
  },
  {
   "cell_type": "code",
   "execution_count": null,
   "id": "87241611",
   "metadata": {},
   "outputs": [],
   "source": [
    "# seperation\n",
    "pos_list = []\n",
    "neg_list = []\n",
    "\n",
    "for i in range(len(pos_index)):\n",
    "    pos_list.append(tmp_list[pos_index[i]])\n",
    "    \n",
    "for i in range(len(neg_index)):\n",
    "    neg_list.append(tmp_list[neg_index[i]])"
   ]
  },
  {
   "cell_type": "code",
   "execution_count": null,
   "id": "9b1e103c",
   "metadata": {},
   "outputs": [],
   "source": [
    "# 분석\n",
    "from konlpy.tag import Okt  # pip install konlpy\n",
    "import time\n",
    "\n",
    "\n",
    "start = time.time()\n",
    "\n",
    "okt = Okt()\n",
    "\n",
    "ko_doc = '\\n'.join(tmp_list)\n",
    "ko_doc_noun = okt.nouns(ko_doc)\n",
    "print(time.time() - start)"
   ]
  },
  {
   "cell_type": "code",
   "execution_count": null,
   "id": "c631ac9f",
   "metadata": {},
   "outputs": [],
   "source": [
    "start = time.time()\n",
    "\n",
    "okt = Okt()\n",
    "\n",
    "pos_doc = '\\n'.join(pos_list)\n",
    "# print(ko_doc[:1000])\n",
    "# print(len(ko_doc))\n",
    "\n",
    "pos_doc_noun = okt.nouns(pos_doc)\n",
    "print(time.time() - start)"
   ]
  },
  {
   "cell_type": "code",
   "execution_count": null,
   "id": "b927b78b",
   "metadata": {},
   "outputs": [],
   "source": [
    "start = time.time()\n",
    "\n",
    "okt = Okt()\n",
    "\n",
    "neg_doc = '\\n'.join(neg_list)\n",
    "# print(ko_doc[:1000])\n",
    "# print(len(ko_doc))\n",
    "\n",
    "neg_doc_noun = okt.nouns(neg_doc)\n",
    "print(time.time() - start)"
   ]
  },
  {
   "cell_type": "code",
   "execution_count": null,
   "id": "a995864c",
   "metadata": {},
   "outputs": [],
   "source": [
    "from collections import Counter\n",
    "from wordcloud import WordCloud\n",
    "import matplotlib.pyplot as plt\n",
    "from PIL import Image \n",
    "import numpy as np \n",
    "\n",
    "# pip install wordcloud\n",
    "count_noun = Counter(ko_doc_noun)\n",
    "\n",
    "stopword_list = ['영화']\n",
    "\n",
    "for word in count_noun:\n",
    "    if len(word) == 1:\n",
    "        stopword_list.append(word)\n",
    "        \n",
    "stopword_list[-5:]\n",
    "\n",
    "for stopword in stopword_list:\n",
    "    if stopword in count_noun:\n",
    "        count_noun.pop(stopword)\n",
    "\n",
    "\n",
    "\n",
    "\n",
    "\n",
    "wc_noun = WordCloud(background_color='white', max_words=2000, font_path=r'C:\\Windows\\Fonts\\H2MJRE.ttf')\n",
    "wc_noun = wc_noun.generate_from_frequencies(count_noun)\n",
    "\n",
    "plt.imshow(wc_noun, interpolation=\"bilinear\")\n",
    "plt.axis(\"off\")\n",
    "plt.show()"
   ]
  },
  {
   "cell_type": "code",
   "execution_count": null,
   "id": "16ae14c3",
   "metadata": {},
   "outputs": [],
   "source": [
    "# pip install wordcloud\n",
    "count_noun = Counter(neg_doc_noun)\n",
    "\n",
    "stopword_list = ['단어']    # 제외 단어\n",
    "\n",
    "for word in count_noun:\n",
    "    if len(word) == 1:\n",
    "        stopword_list.append(word)\n",
    "        \n",
    "stopword_list[-5:]\n",
    "\n",
    "for stopword in stopword_list:\n",
    "    if stopword in count_noun:\n",
    "        count_noun.pop(stopword)\n",
    "\n",
    "wc_noun = WordCloud(background_color='white', max_words=2000, font_path=r'C:\\Windows\\Fonts\\H2MJRE.ttf')\n",
    "wc_noun = wc_noun.generate_from_frequencies(count_noun)\n",
    "\n",
    "plt.imshow(wc_noun, interpolation=\"bilinear\")\n",
    "plt.axis(\"off\")\n",
    "plt.show()"
   ]
  }
 ],
 "metadata": {
  "kernelspec": {
   "display_name": "Python 3 (ipykernel)",
   "language": "python",
   "name": "python3"
  },
  "language_info": {
   "codemirror_mode": {
    "name": "ipython",
    "version": 3
   },
   "file_extension": ".py",
   "mimetype": "text/x-python",
   "name": "python",
   "nbconvert_exporter": "python",
   "pygments_lexer": "ipython3",
   "version": "3.9.12"
  }
 },
 "nbformat": 4,
 "nbformat_minor": 5
}
